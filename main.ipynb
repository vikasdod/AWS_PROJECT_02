{
 "cells": [
  {
   "cell_type": "code",
   "execution_count": 2,
   "id": "8d7b3ebf",
   "metadata": {},
   "outputs": [
    {
     "name": "stdout",
     "output_type": "stream",
     "text": [
      "AWS Region = us-east-1\n"
     ]
    }
   ],
   "source": [
    "import os\n",
    "import uuid\n",
    "import random\n",
    "import ast\n",
    "import base64\n",
    "import json\n",
    "\n",
    "import boto3\n",
    "import pandas as pd\n",
    "\n",
    "REGION = boto3.session.Session().region_name\n",
    "print(f\"AWS Region = {REGION}\")"
   ]
  },
  {
   "cell_type": "markdown",
   "id": "e3c1865c",
   "metadata": {},
   "source": [
    "## Load the data from local storage"
   ]
  },
  {
   "cell_type": "code",
   "execution_count": 3,
   "id": "7d22c0b5",
   "metadata": {},
   "outputs": [],
   "source": [
    "df = pd.read_csv(\"Fake and Real News Dataset/True.csv\")"
   ]
  },
  {
   "cell_type": "code",
   "execution_count": 4,
   "id": "75edb06e",
   "metadata": {},
   "outputs": [],
   "source": [
    "def get_record(df):\n",
    "    \"\"\"\n",
    "    This is a generator to get a random record from the source dataframe. Also, converts\n",
    "    the data into bytes object. Data Streams accepts only bytes datatypes.\n",
    "    \"\"\"\n",
    "    i = 0\n",
    "    while True:\n",
    "        record = df.sample(1).to_dict()\n",
    "        record = {\n",
    "            \"text\": \"\".join(record['text'].values()),\n",
    "        }\n",
    "        record = str(record).encode('utf-8')\n",
    "        yield record\n",
    "\n",
    "record_generator = get_record(df) # Initialize the generator"
   ]
  },
  {
   "cell_type": "markdown",
   "id": "f48b8362",
   "metadata": {},
   "source": [
    "### Descriptive stats of the Real news data"
   ]
  },
  {
   "cell_type": "code",
   "execution_count": 5,
   "id": "456193fb",
   "metadata": {},
   "outputs": [
    {
     "data": {
      "text/plain": [
       "count    21417.000000\n",
       "mean       385.640099\n",
       "std        274.006204\n",
       "min          0.000000\n",
       "25%        148.000000\n",
       "50%        359.000000\n",
       "75%        525.000000\n",
       "max       5172.000000\n",
       "Name: text, dtype: float64"
      ]
     },
     "execution_count": 5,
     "metadata": {},
     "output_type": "execute_result"
    }
   ],
   "source": [
    "df.text.apply(lambda x:len(x.split())).describe()"
   ]
  },
  {
   "cell_type": "markdown",
   "id": "95f59e70",
   "metadata": {},
   "source": [
    "## PUT data into Kinesis Streams (randomly)"
   ]
  },
  {
   "cell_type": "code",
   "execution_count": 6,
   "id": "f670dcb8",
   "metadata": {},
   "outputs": [],
   "source": [
    "PARTITION_KEYS = [uuid.uuid4().hex for i in range(512)]\n",
    "\n",
    "STREAM_NAME = \"news-stream\" # Name of the Kinesis Stream"
   ]
  },
  {
   "cell_type": "code",
   "execution_count": 32,
   "id": "900cdbae",
   "metadata": {},
   "outputs": [
    {
     "data": {
      "text/plain": [
       "62"
      ]
     },
     "execution_count": 32,
     "metadata": {},
     "output_type": "execute_result"
    }
   ],
   "source": [
    "kinesis_client = boto3.client('kinesis') # Kinesis client\n",
    "len(kinesis_client.describe_stream(StreamName=\"news-stream\")['StreamDescription']['Shards'])"
   ]
  },
  {
   "cell_type": "markdown",
   "id": "87b76fbb",
   "metadata": {},
   "source": [
    "### Run the cell only once and comment out to use same data every time (if needed)\n",
    "Otherwise use accordingly"
   ]
  },
  {
   "cell_type": "code",
   "execution_count": 34,
   "id": "64b4d921",
   "metadata": {},
   "outputs": [
    {
     "data": {
      "text/plain": [
       "5"
      ]
     },
     "execution_count": 34,
     "metadata": {},
     "output_type": "execute_result"
    }
   ],
   "source": [
    "put_records = []\n",
    "count = 5\n",
    "for _ in range(count):    \n",
    "    put_params = {\n",
    "\n",
    "        'Data': next(record_generator),\n",
    "        'PartitionKey': random.choice(PARTITION_KEYS)\n",
    "    }\n",
    "    put_records.append(put_params)\n",
    "\n",
    "assert STREAM_NAME in kinesis_client.list_streams()['StreamNames']\n",
    "len(put_records)"
   ]
  },
  {
   "cell_type": "code",
   "execution_count": 35,
   "id": "509ac189",
   "metadata": {},
   "outputs": [
    {
     "data": {
      "text/plain": [
       "{'RequestId': 'f83febb4-cf86-e7f3-a500-7cc6ec84cd77',\n",
       " 'HTTPStatusCode': 200,\n",
       " 'HTTPHeaders': {'x-amzn-requestid': 'f83febb4-cf86-e7f3-a500-7cc6ec84cd77',\n",
       "  'x-amz-id-2': '6jfsAK5bFtvQbfoYVJs7Hlv+9m2d9Awjbiihxxhboxj2IgWPbcvuBHwZW9xQlVr3vO4/uomQSh34vj6UZSndbm+ZgjBSSA45',\n",
       "  'date': 'Sat, 29 Jul 2023 22:39:46 GMT',\n",
       "  'content-type': 'application/x-amz-json-1.1',\n",
       "  'content-length': '590'},\n",
       " 'RetryAttempts': 0}"
      ]
     },
     "execution_count": 35,
     "metadata": {},
     "output_type": "execute_result"
    }
   ],
   "source": [
    "params = {\n",
    "    'StreamName': STREAM_NAME,\n",
    "    'Records' : put_records\n",
    "}\n",
    "kinesis_client.put_records(**params)['ResponseMetadata']"
   ]
  },
  {
   "cell_type": "code",
   "execution_count": null,
   "id": "ac345403",
   "metadata": {},
   "outputs": [],
   "source": [
    "Write capacity\n",
    "16 MiB/second and 16000 records/second\n",
    "Read capacity\n",
    "32 MiB/second"
   ]
  }
 ],
 "metadata": {
  "kernelspec": {
   "display_name": "Python 3 (ipykernel)",
   "language": "python",
   "name": "python3"
  },
  "language_info": {
   "codemirror_mode": {
    "name": "ipython",
    "version": 3
   },
   "file_extension": ".py",
   "mimetype": "text/x-python",
   "name": "python",
   "nbconvert_exporter": "python",
   "pygments_lexer": "ipython3",
   "version": "3.10.0"
  }
 },
 "nbformat": 4,
 "nbformat_minor": 5
}
